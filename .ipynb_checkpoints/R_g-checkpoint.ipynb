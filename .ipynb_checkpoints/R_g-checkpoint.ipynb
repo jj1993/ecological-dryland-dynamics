{
 "cells": [
  {
   "cell_type": "code",
   "execution_count": 1,
   "metadata": {},
   "outputs": [],
   "source": [
    "import numpy as np\n",
    "import copy\n",
    "from main import initiate_models, run_models\n",
    "import data, fit\n",
    "import matplotlib\n",
    "matplotlib.use('TkAgg')\n",
    "import matplotlib.pyplot as plt"
   ]
  },
  {
   "cell_type": "code",
   "execution_count": null,
   "metadata": {},
   "outputs": [],
   "source": [
    "RL_list = []\n",
    "param_range = (.3, .7)\n",
    "iterations = 3\n",
    "values = np.linspace(*param_range, iterations)\n",
    "for value in values:\n",
    "    print(\"%s factor: %.3f\" % ('R_g', value))\n",
    "\n",
    "    # Collect parameters for fitting\n",
    "    params = ['alpha', 'beta', 'gamma', 'c_rb', 'c_br', 'c_rr', 'c_bb', 'seed_prob']\n",
    "    p, _ = data.get_params()\n",
    "    for param in params:\n",
    "        p[param] = 0.0\n",
    "    p['R_g'] *= value\n",
    "\n",
    "    # Initiate and run models\n",
    "    models = initiate_models(p)\n",
    "    run_models(models)\n",
    "\n",
    "    # Assign data to patches\n",
    "    patches = data.assign_data(models)\n",
    "    RL_loss, _ = fit.get_total_loss(patches, 4)\n",
    "\n",
    "    RL_list.append(RL_loss)\n",
    "    print(RL_loss)"
   ]
  },
  {
   "cell_type": "code",
   "execution_count": 8,
   "metadata": {},
   "outputs": [
    {
     "ename": "SyntaxError",
     "evalue": "invalid syntax (<ipython-input-8-f9a592256d27>, line 34)",
     "output_type": "error",
     "traceback": [
      "\u001b[0;36m  File \u001b[0;32m\"<ipython-input-8-f9a592256d27>\"\u001b[0;36m, line \u001b[0;32m34\u001b[0m\n\u001b[0;31m    for t in range(n+1)\u001b[0m\n\u001b[0m                           ^\u001b[0m\n\u001b[0;31mSyntaxError\u001b[0m\u001b[0;31m:\u001b[0m invalid syntax\n"
     ]
    }
   ],
   "source": [
    "RL_list = []\n",
    "values = [1]\n",
    "n = 1\n",
    "for value in values:\n",
    "    print(\"%s factor: %.3f\" % ('R_g', value))\n",
    "\n",
    "    # Collect parameters for fitting\n",
    "    params = ['alpha', 'beta', 'gamma', 'c_rb', 'c_br', 'c_rr', 'c_bb', 'seed_prob']\n",
    "    p, _ = data.get_params()\n",
    "    for param in params:\n",
    "        p[param] = 0.0\n",
    "    p['alpha'] = 0.3\n",
    "    p['R_g'] *= value\n",
    "\n",
    "    # Initiate and run models\n",
    "    models = initiate_models(p)\n",
    "    run_models(models)\n",
    "\n",
    "    # Assign data to patches\n",
    "    patches = data.assign_data(models)\n",
    "    \n",
    "    for t in range(n+1):\n",
    "        mdata = np.array([p.RL_data[t] for p in patches])\n",
    "        mdata = mdata[~np.isnan(mdata)]\n",
    "        model = np.array([p.RL_model[t] for p in patches])\n",
    "        model = model[~np.isnan(model)]\n",
    "\n",
    "        #Creates two subplots and unpacks the output array immediately\n",
    "        print(np.mean(mdata))\n",
    "        print(np.mean(model))\n",
    "        print(len(mdata), len([p.RL_data[t] for p in patches]) )\n",
    "        print(len(model), len([p.RL_model[t] for p in patches]))\n",
    "        count = 0\n",
    "        for patch in patches:\n",
    "            if patch.RL_data[t] - patch.RL_model[t] > 0:\n",
    "                count += 1\n",
    "        print(count, count/len(model))\n",
    "        RL_loss, _ = fit.get_total_loss(patches, t)\n",
    "        print(RL_loss)\n",
    "        print()\n",
    "#     f, (ax1, ax2) = plt.subplots(1, 2, sharey=True)\n",
    "#     ax1.hist(mdata)\n",
    "#     ax2.hist(model)\n",
    "#     plt.show()\n",
    "    "
   ]
  },
  {
   "cell_type": "code",
   "execution_count": null,
   "metadata": {
    "collapsed": true
   },
   "outputs": [],
   "source": []
  }
 ],
 "metadata": {
  "kernelspec": {
   "display_name": "Python 3",
   "language": "python",
   "name": "python3"
  },
  "language_info": {
   "codemirror_mode": {
    "name": "ipython",
    "version": 3
   },
   "file_extension": ".py",
   "mimetype": "text/x-python",
   "name": "python",
   "nbconvert_exporter": "python",
   "pygments_lexer": "ipython3",
   "version": "3.6.3"
  }
 },
 "nbformat": 4,
 "nbformat_minor": 2
}
