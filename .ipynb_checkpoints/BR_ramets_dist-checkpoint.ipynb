{
 "cells": [
  {
   "cell_type": "code",
   "execution_count": 34,
   "metadata": {
    "collapsed": true
   },
   "outputs": [],
   "source": [
    "import data\n",
    "import numpy as np\n",
    "import pandas as pd\n",
    "from main import initiate_models"
   ]
  },
  {
   "cell_type": "code",
   "execution_count": 35,
   "metadata": {
    "collapsed": true
   },
   "outputs": [],
   "source": [
    "# Collect data\n",
    "fname = \"../data/Bret_cover_ramets.csv\"\n",
    "df = pd.read_csv(fname,delimiter='\\t', decimal=',')"
   ]
  },
  {
   "cell_type": "code",
   "execution_count": 36,
   "metadata": {},
   "outputs": [
    {
     "name": "stdout",
     "output_type": "stream",
     "text": [
      "Mean: 6.701, Std: 6.756\n"
     ]
    },
    {
     "name": "stderr",
     "output_type": "stream",
     "text": [
      "/Users/beekm/anaconda3/lib/python3.6/site-packages/ipykernel_launcher.py:2: DeprecationWarning: \n",
      ".ix is deprecated. Please use\n",
      ".loc for label based indexing or\n",
      ".iloc for positional indexing\n",
      "\n",
      "See the documentation here:\n",
      "http://pandas.pydata.org/pandas-docs/stable/indexing.html#ix-indexer-is-deprecated\n",
      "  \n"
     ]
    }
   ],
   "source": [
    "# Get mean and std deviation of clones\n",
    "d = df.ix[:, ['NR_3', 'NR_3_distance(cm)']].values\n",
    "weights, mids = d.T\n",
    "mean = np.average(mids[~np.isnan(mids)], weights=weights[~np.isnan(weights)])\n",
    "std = np.average((mids[~np.isnan(mids)] - mean)**2, weights=weights[~np.isnan(weights)])\n",
    "print(\"Mean: %.3f, Std: %.3f\"%(mean, std))"
   ]
  },
  {
   "cell_type": "code",
   "execution_count": 37,
   "metadata": {
    "collapsed": true
   },
   "outputs": [],
   "source": [
    "# Collect modelled patches and corresponding data\n",
    "models = initiate_models(data.get_params()[0])\n",
    "data.assign_data(models)\n",
    "patches = []\n",
    "for model in models:\n",
    "    patches += model.patches"
   ]
  },
  {
   "cell_type": "code",
   "execution_count": 38,
   "metadata": {},
   "outputs": [
    {
     "name": "stdout",
     "output_type": "stream",
     "text": [
      "160\n"
     ]
    }
   ],
   "source": [
    "labels_data = df.ix[:, ['plot', 'patch']].values\n",
    "labels = [\"%02d%s%s\" % (plot, patch[1:], patch[0]) for plot, patch in labels_data]\n",
    "counts = []\n",
    "for count, label in zip(weights, labels):\n",
    "    if not np.isnan(count):\n",
    "        for patch in patches:\n",
    "            if patch.id.strip(\"*\") == label and patch.has_data:\n",
    "                nr = patch.factor * 9\n",
    "                biom_0 = patch.BR_data[0]\n",
    "                biom_T = patch.BR_data[2]\n",
    "                counts.append((biom_0/nr, biom_T/nr, count/nr))\n",
    "                break\n",
    "        else:\n",
    "            raise FileNotFoundError(label)\n",
    "\n",
    "print(len(counts))"
   ]
  },
  {
   "cell_type": "markdown",
   "metadata": {},
   "source": [
    "We collected the summed probability over the whole period until measurement 3. We now want this final amount of seeds per biomass to the seed probability $p_{seed}$ on every timestep. \n",
    "\n",
    "$$ N_{seeds}\\big |_{t=T} = \\sum_{t=0}^Tp_{seeds}B_t$$\n",
    "\n",
    "$$= p_{seeds}B_0\\sum_{t=0}^Tr^t$$\n",
    "\n",
    "$$= p_{seeds}B_0\\frac{1 - r^{T+1}}{1 - r}$$\n",
    "\n",
    "$$ p_{seed} = \\frac{N_{seeds}}{B_0}\\frac{1 - r}{1 - r^{T+1}}$$\n",
    "\n",
    "Where we can approximate $r$ by\n",
    "\n",
    "$$B_T = B_0r^T$$\n",
    "$$r = \\left(\\frac{B_T}{B_0}\\right)^{\\frac{1}{T}} $$"
   ]
  },
  {
   "cell_type": "code",
   "execution_count": 39,
   "metadata": {},
   "outputs": [
    {
     "name": "stdout",
     "output_type": "stream",
     "text": [
      "118\n",
      "1.6145152003684937\n",
      "Average r = 1.0040678677\n"
     ]
    }
   ],
   "source": [
    "T = (data.end_date - data.start_date).days\n",
    "B_T_B_0 = np.mean([b[1]/b[0] for b in counts])\n",
    "r_average = B_T_B_0**(1/T)\n",
    "\n",
    "print(T)\n",
    "print(B_T_B_0)\n",
    "print('Average r = %.10f'%r_average)"
   ]
  },
  {
   "cell_type": "code",
   "execution_count": 47,
   "metadata": {},
   "outputs": [
    {
     "name": "stdout",
     "output_type": "stream",
     "text": [
      "0.0030308431070834646 0.003102785121626534\n"
     ]
    }
   ],
   "source": [
    "p_seeds = []\n",
    "for B_0, B_T, N_total in counts:\n",
    "    r = (B_T/B_0)**(1/T)\n",
    "    p = N_total/B_0*(1 - r)/(1 - r**(T+1))\n",
    "    p_seeds.append(p)\n",
    "    \n",
    "print(np.mean(p_seeds), np.std(p_seeds))"
   ]
  },
  {
   "cell_type": "code",
   "execution_count": 46,
   "metadata": {},
   "outputs": [
    {
     "name": "stdout",
     "output_type": "stream",
     "text": [
      "seed_prob = 0.003 +/- 0.003\n",
      "seed_mean = 6.701\n",
      "seed_sigma = 6.756\n"
     ]
    }
   ],
   "source": [
    "print(\"seed_prob = %.3f +/- %.3f\"%(np.mean(p_seeds), np.std(p_seeds)))\n",
    "print(\"seed_mean = %.3f\"%mean)\n",
    "print(\"seed_sigma = %.3f\"%std)"
   ]
  },
  {
   "cell_type": "code",
   "execution_count": null,
   "metadata": {
    "collapsed": true
   },
   "outputs": [],
   "source": []
  }
 ],
 "metadata": {
  "kernelspec": {
   "display_name": "Python 3",
   "language": "python",
   "name": "python3"
  },
  "language_info": {
   "codemirror_mode": {
    "name": "ipython",
    "version": 3
   },
   "file_extension": ".py",
   "mimetype": "text/x-python",
   "name": "python",
   "nbconvert_exporter": "python",
   "pygments_lexer": "ipython3",
   "version": "3.6.3"
  }
 },
 "nbformat": 4,
 "nbformat_minor": 2
}
