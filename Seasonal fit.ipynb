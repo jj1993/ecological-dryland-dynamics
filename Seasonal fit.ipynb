{
 "cells": [
  {
   "cell_type": "code",
   "execution_count": 1,
   "metadata": {},
   "outputs": [],
   "source": [
    "from main import initiate_models, run_models\n",
    "import data\n",
    "import numpy as np\n",
    "import matplotlib.pyplot as plt\n",
    "from fit import get_total_loss, get_subset_loss"
   ]
  },
  {
   "cell_type": "code",
   "execution_count": 2,
   "metadata": {},
   "outputs": [
    {
     "name": "stdout",
     "output_type": "stream",
     "text": [
      "1.3293082005090684\n"
     ]
    }
   ],
   "source": [
    "seasonality = data.get_seasonality()\n",
    "max_val = 0\n",
    "for key in seasonality.keys():\n",
    "    val = seasonality[key]\n",
    "    if val > max_val:\n",
    "        max_val = val\n",
    "        \n",
    "print(1/max_val)"
   ]
  },
  {
   "cell_type": "code",
   "execution_count": 4,
   "metadata": {},
   "outputs": [
    {
     "name": "stdout",
     "output_type": "stream",
     "text": [
      "==================\n",
      "Season factor  1.3\n",
      "==================\n",
      "\n",
      "Timepoint N2\n",
      "Total loss 0.830912768381351 5.432489026845141\n",
      "0 of BR patches and 9 or RL patches are under the model value\n",
      "\n",
      "Timepoint N3\n",
      "Total loss 1.846262218681052 5.481851534984463\n",
      "0.2452426497980404 0.3 03MP1*\n",
      "0.7422751488094288 0.9009999999999999 18MP1*\n",
      "0.790624134686329 0.9990000000000001 21MP1*\n",
      "1.0067490828428303 1.159 01MP1*\n",
      "1.1993810197487407 1.705 18RP2*\n",
      "1.3392825349432005 1.5390000000000001 04MP1*\n",
      "0 of BR patches and 6 or RL patches are under the model value\n"
     ]
    }
   ],
   "source": [
    "loss_list = []\n",
    "for season_fact in [1.3]:#np.arange(1, 1/max_val, .1):\n",
    "    print(\"==================\")\n",
    "    print(\"Season factor \",season_fact)\n",
    "    print(\"==================\")\n",
    "    # Collect parameters for fitting\n",
    "    params_model, _ = data.get_params()\n",
    "    params_model['R_g'] *= 2\n",
    "\n",
    "    # Initiate and run models\n",
    "    models = initiate_models(params_model, season_fact)\n",
    "    run_models(models)\n",
    "\n",
    "    # Assign data to patches\n",
    "    patches = data.assign_data(models)\n",
    "\n",
    "    print(\"\\nTimepoint N2\")    \n",
    "    t = 1\n",
    "    tol = .95\n",
    "    print(\"Total loss\",*get_total_loss(patches, t))\n",
    "    nr_RL, nr_BR = 0, 0\n",
    "    hist_RL, hist_BR, hist_RL_data, hist_BR_data = [], [], [], []\n",
    "    for patch in patches:\n",
    "        if patch.BR_model[t] < tol*patch.BR_data[t]:\n",
    "            nr_BR += 1\n",
    "        if patch.RL_model[t] < tol*patch.RL_data[t]:\n",
    "            nr_RL += 1\n",
    "    print(\"%i of BR patches and %i or RL patches are under the model value\"%(nr_BR, nr_RL))\n",
    "    \n",
    "    print(\"\\nTimepoint N3\") \n",
    "    t = 2\n",
    "    tol = 1\n",
    "    print(\"Total loss\",*get_total_loss(patches, t))\n",
    "    nr_RL, nr_BR = 0, 0\n",
    "    hist_RL, hist_BR, hist_RL_data, hist_BR_data = [], [], [], []\n",
    "    for patch in patches:\n",
    "        if patch.BR_model[t] < tol*patch.BR_data[t]:\n",
    "            nr_BR += 1\n",
    "        hist_BR.append(patch.BR_model[t])\n",
    "        hist_BR_data.append(patch.BR_data[t])\n",
    "        if patch.RL_model[t] < tol*patch.RL_data[t]:\n",
    "            print(patch.RL_model[t], patch.RL_data[t], patch.id)\n",
    "            nr_RL += 1\n",
    "        hist_RL.append(patch.RL_model[t])\n",
    "        hist_RL_data.append(patch.RL_data[t])\n",
    "    print(\"%i of BR patches and %i or RL patches are under the model value\"%(nr_BR, nr_RL))\n",
    "\n",
    "hist_RL, hist_BR, hist_RL_data, hist_BR_data = np.array(hist_RL), np.array(hist_BR), np.array(hist_RL_data), np.array(hist_BR_data)"
   ]
  },
  {
   "cell_type": "code",
   "execution_count": 5,
   "metadata": {},
   "outputs": [
    {
     "ename": "KeyboardInterrupt",
     "evalue": "",
     "output_type": "error",
     "traceback": [
      "\u001b[0;31m---------------------------------------------------------------------------\u001b[0m",
      "\u001b[0;31mKeyboardInterrupt\u001b[0m                         Traceback (most recent call last)",
      "\u001b[0;32m<ipython-input-5-66f06d349b33>\u001b[0m in \u001b[0;36m<module>\u001b[0;34m()\u001b[0m\n\u001b[1;32m      2\u001b[0m \u001b[0mdiff\u001b[0m \u001b[0;34m=\u001b[0m \u001b[0mdiff\u001b[0m\u001b[0;34m[\u001b[0m\u001b[0;34m~\u001b[0m\u001b[0mnp\u001b[0m\u001b[0;34m.\u001b[0m\u001b[0misnan\u001b[0m\u001b[0;34m(\u001b[0m\u001b[0mdiff\u001b[0m\u001b[0;34m)\u001b[0m\u001b[0;34m]\u001b[0m\u001b[0;34m\u001b[0m\u001b[0m\n\u001b[1;32m      3\u001b[0m \u001b[0mplt\u001b[0m\u001b[0;34m.\u001b[0m\u001b[0mhist\u001b[0m\u001b[0;34m(\u001b[0m\u001b[0mdiff\u001b[0m\u001b[0;34m)\u001b[0m\u001b[0;34m\u001b[0m\u001b[0m\n\u001b[0;32m----> 4\u001b[0;31m \u001b[0mplt\u001b[0m\u001b[0;34m.\u001b[0m\u001b[0mshow\u001b[0m\u001b[0;34m(\u001b[0m\u001b[0;34m)\u001b[0m\u001b[0;34m\u001b[0m\u001b[0m\n\u001b[0m",
      "\u001b[0;32m~/anaconda3/lib/python3.6/site-packages/matplotlib/pyplot.py\u001b[0m in \u001b[0;36mshow\u001b[0;34m(*args, **kw)\u001b[0m\n\u001b[1;32m    251\u001b[0m     \"\"\"\n\u001b[1;32m    252\u001b[0m     \u001b[0;32mglobal\u001b[0m \u001b[0m_show\u001b[0m\u001b[0;34m\u001b[0m\u001b[0m\n\u001b[0;32m--> 253\u001b[0;31m     \u001b[0;32mreturn\u001b[0m \u001b[0m_show\u001b[0m\u001b[0;34m(\u001b[0m\u001b[0;34m*\u001b[0m\u001b[0margs\u001b[0m\u001b[0;34m,\u001b[0m \u001b[0;34m**\u001b[0m\u001b[0mkw\u001b[0m\u001b[0;34m)\u001b[0m\u001b[0;34m\u001b[0m\u001b[0m\n\u001b[0m\u001b[1;32m    254\u001b[0m \u001b[0;34m\u001b[0m\u001b[0m\n\u001b[1;32m    255\u001b[0m \u001b[0;34m\u001b[0m\u001b[0m\n",
      "\u001b[0;32m~/anaconda3/lib/python3.6/site-packages/matplotlib/backend_bases.py\u001b[0m in \u001b[0;36mshow\u001b[0;34m(cls, block)\u001b[0m\n\u001b[1;32m    206\u001b[0m                 \u001b[0mblock\u001b[0m \u001b[0;34m=\u001b[0m \u001b[0;32mTrue\u001b[0m\u001b[0;34m\u001b[0m\u001b[0m\n\u001b[1;32m    207\u001b[0m         \u001b[0;32mif\u001b[0m \u001b[0mblock\u001b[0m\u001b[0;34m:\u001b[0m\u001b[0;34m\u001b[0m\u001b[0m\n\u001b[0;32m--> 208\u001b[0;31m             \u001b[0mcls\u001b[0m\u001b[0;34m.\u001b[0m\u001b[0mmainloop\u001b[0m\u001b[0;34m(\u001b[0m\u001b[0;34m)\u001b[0m\u001b[0;34m\u001b[0m\u001b[0m\n\u001b[0m\u001b[1;32m    209\u001b[0m \u001b[0;34m\u001b[0m\u001b[0m\n\u001b[1;32m    210\u001b[0m     \u001b[0;31m# This method is the one actually exporting the required methods.\u001b[0m\u001b[0;34m\u001b[0m\u001b[0;34m\u001b[0m\u001b[0m\n",
      "\u001b[0;32m~/anaconda3/lib/python3.6/site-packages/matplotlib/backends/_backend_tk.py\u001b[0m in \u001b[0;36mmainloop\u001b[0;34m()\u001b[0m\n\u001b[1;32m   1071\u001b[0m     \u001b[0;34m@\u001b[0m\u001b[0mstaticmethod\u001b[0m\u001b[0;34m\u001b[0m\u001b[0m\n\u001b[1;32m   1072\u001b[0m     \u001b[0;32mdef\u001b[0m \u001b[0mmainloop\u001b[0m\u001b[0;34m(\u001b[0m\u001b[0;34m)\u001b[0m\u001b[0;34m:\u001b[0m\u001b[0;34m\u001b[0m\u001b[0m\n\u001b[0;32m-> 1073\u001b[0;31m         \u001b[0mTk\u001b[0m\u001b[0;34m.\u001b[0m\u001b[0mmainloop\u001b[0m\u001b[0;34m(\u001b[0m\u001b[0;34m)\u001b[0m\u001b[0;34m\u001b[0m\u001b[0m\n\u001b[0m",
      "\u001b[0;32m~/anaconda3/lib/python3.6/tkinter/__init__.py\u001b[0m in \u001b[0;36mmainloop\u001b[0;34m(n)\u001b[0m\n\u001b[1;32m    555\u001b[0m \u001b[0;32mdef\u001b[0m \u001b[0mmainloop\u001b[0m\u001b[0;34m(\u001b[0m\u001b[0mn\u001b[0m\u001b[0;34m=\u001b[0m\u001b[0;36m0\u001b[0m\u001b[0;34m)\u001b[0m\u001b[0;34m:\u001b[0m\u001b[0;34m\u001b[0m\u001b[0m\n\u001b[1;32m    556\u001b[0m     \u001b[0;34m\"\"\"Run the main loop of Tcl.\"\"\"\u001b[0m\u001b[0;34m\u001b[0m\u001b[0m\n\u001b[0;32m--> 557\u001b[0;31m     \u001b[0m_default_root\u001b[0m\u001b[0;34m.\u001b[0m\u001b[0mtk\u001b[0m\u001b[0;34m.\u001b[0m\u001b[0mmainloop\u001b[0m\u001b[0;34m(\u001b[0m\u001b[0mn\u001b[0m\u001b[0;34m)\u001b[0m\u001b[0;34m\u001b[0m\u001b[0m\n\u001b[0m\u001b[1;32m    558\u001b[0m \u001b[0;34m\u001b[0m\u001b[0m\n\u001b[1;32m    559\u001b[0m \u001b[0mgetint\u001b[0m \u001b[0;34m=\u001b[0m \u001b[0mint\u001b[0m\u001b[0;34m\u001b[0m\u001b[0m\n",
      "\u001b[0;31mKeyboardInterrupt\u001b[0m: "
     ]
    }
   ],
   "source": [
    "diff = hist_RL - hist_RL_data\n",
    "diff = diff[~np.isnan(diff)]\n",
    "plt.hist(diff)\n",
    "plt.show()"
   ]
  },
  {
   "cell_type": "code",
   "execution_count": null,
   "metadata": {},
   "outputs": [],
   "source": [
    "nr_RL = 0\n",
    "for patch in patches:\n",
    "    if 'R' in patch.id or 'M' in patch.id:\n",
    "        nr_RL += 1\n",
    "\n",
    "print(len(patches))\n",
    "print(nr_RL)"
   ]
  },
  {
   "cell_type": "code",
   "execution_count": null,
   "metadata": {
    "collapsed": true
   },
   "outputs": [],
   "source": []
  }
 ],
 "metadata": {
  "kernelspec": {
   "display_name": "Python 3",
   "language": "python",
   "name": "python3"
  },
  "language_info": {
   "codemirror_mode": {
    "name": "ipython",
    "version": 3
   },
   "file_extension": ".py",
   "mimetype": "text/x-python",
   "name": "python",
   "nbconvert_exporter": "python",
   "pygments_lexer": "ipython3",
   "version": "3.6.3"
  }
 },
 "nbformat": 4,
 "nbformat_minor": 2
}
